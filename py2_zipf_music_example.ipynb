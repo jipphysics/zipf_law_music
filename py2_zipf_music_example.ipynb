{
 "cells": [
  {
   "cell_type": "code",
   "execution_count": null,
   "metadata": {},
   "outputs": [],
   "source": [
    "# HOWTO install and create a conda environment with Python 2 with the required packages for Linux in a bash terminal.\n",
    "# 1. Download and install miniconda2 from\n",
    "#    https://conda.io/en/latest/miniconda.html\n",
    "# 2. Activate the base environment for conda\n",
    "# 3. Create a new environment\n",
    "#    $ conda create --name py2_zipf_music python=3\n",
    "# 4. Activate the new environment\n",
    "#    $ conda activate py2_zipf_music\n",
    "# 5. Install the required Python packages\n",
    "#    $ conda install -c anaconda numpy\n",
    "#    $ conda install -c conda-forge matplotlib\n",
    "#    $ conda install -c anaconda scipy\n",
    "#    $ conda install -c mutirri music21 \n",
    "#    $ conda install -c anaconda jupyter \n",
    "# 6. Run Jupyter notebook\n",
    "#    $ jupyter notebook\n",
    "# 7. and open py2_zipf_music_example.ipynb\n",
    "# 8. For the example to work, please download (or analogous)\n",
    "#        Brandenburg_Concerto_No._5_in_D_Major_BWV_1050_for_Flute_Oboe__Strings.mxl\n",
    "#    from\n",
    "#        http://musescore.com/mike_magatagan/scores/4492921\n",
    "#    since we are not allowed to redistribute it."
   ]
  },
  {
   "cell_type": "code",
   "execution_count": null,
   "metadata": {},
   "outputs": [],
   "source": [
    "import matplotlib\n",
    "import numpy as np\n",
    "import matplotlib.pyplot as plt\n",
    "%matplotlib inline "
   ]
  },
  {
   "cell_type": "code",
   "execution_count": null,
   "metadata": {},
   "outputs": [],
   "source": [
    "plt.rcParams[\"figure.figsize\"] = (13,9)"
   ]
  },
  {
   "cell_type": "code",
   "execution_count": null,
   "metadata": {},
   "outputs": [],
   "source": [
    "from collections import defaultdict\n",
    "import music21 as m21"
   ]
  },
  {
   "cell_type": "raw",
   "metadata": {},
   "source": [
    "%%bash\n",
    "ls DATA/music/classical/bach/Brandenburg_Concerto_No._5_in_D_Major_BWV_1050_for_Flute_Oboe__Strings.mxl"
   ]
  },
  {
   "cell_type": "code",
   "execution_count": null,
   "metadata": {},
   "outputs": [],
   "source": [
    "# Read the .mxl file. This may take some time. Here, you may need to change the path to the file.\n",
    "mxl = m21.converter.parse( 'DATA/music/classical/bach/Brandenburg_Concerto_No._5_in_D_Major_BWV_1050_for_Flute_Oboe__Strings.mxl' )"
   ]
  },
  {
   "cell_type": "code",
   "execution_count": null,
   "metadata": {},
   "outputs": [],
   "source": [
    "# Create raw sequence of notes\n",
    "seq_raw_notes  = [(el.offset, str(el.nameWithOctave), str(el.duration.quarterLength)) for el in mxl.flat.getElementsByClass(m21.note.Note)]\n",
    "seq_raw_notes[:10]"
   ]
  },
  {
   "cell_type": "code",
   "execution_count": null,
   "metadata": {},
   "outputs": [],
   "source": [
    "# Create raw sequence of chords\n",
    "seq_raw_chords = [(el.offset, el.pitches, str(el.duration.quarterLength)) for el in mxl.flat.getElementsByClass(m21.chord.Chord)]\n",
    "seq_raw_chords[:10]"
   ]
  },
  {
   "cell_type": "code",
   "execution_count": null,
   "metadata": {},
   "outputs": [],
   "source": [
    "# Create sequence of triplets (time, ptich, time-duration) from the raw sequence of notes and the raw sequence of \n",
    "# chords.\n",
    "seq_triplets = list( seq_raw_notes )\n",
    "for (ti,pitches,td) in seq_raw_chords:\n",
    "    for p in pitches:\n",
    "        seq_triplets.append( (ti,str(p),td) )\n",
    "seq_triplets[:10]"
   ]
  },
  {
   "cell_type": "code",
   "execution_count": null,
   "metadata": {},
   "outputs": [],
   "source": [
    "# Create sorted sequence of \"raw events\". Each \"raw event\" is univocally recognizes a note by its time-duration \n",
    "# and pitch. Notice, these \"raw events\" are obtained from originally isolated notes and from the notes obtained \n",
    "# from each original chord.\n",
    "sorted_seq_raw_events = sorted( [ ( ti , td + ':' + p ) for ( ti , p , td ) in seq_triplets ] )\n",
    "sorted_seq_raw_events[:10]"
   ]
  },
  {
   "cell_type": "code",
   "execution_count": null,
   "metadata": {},
   "outputs": [],
   "source": [
    "# Create the sorted sequence of notes.\n",
    "np.random.shuffle(sorted_seq_raw_events)\n",
    "sorted_seq_notes = [ ev for (ti,ev) in sorted_seq_raw_events ]\n",
    "sorted_seq_notes[:10]"
   ]
  },
  {
   "cell_type": "code",
   "execution_count": null,
   "metadata": {},
   "outputs": [],
   "source": [
    "# Create the sorted sequence of generalized-chords.\n",
    "tmp = defaultdict( list )\n",
    "for ( ti , re ) in sorted_seq_raw_events:\n",
    "    tmp[ ti ].append( re ) # group raw events by ti\n",
    "sorted_seq_generalized_chords = [ '='.join( sorted( tmp[ ti ] ) ) for ti in sorted( tmp.keys() ) ]\n",
    "sorted_seq_generalized_chords[:10]"
   ]
  },
  {
   "cell_type": "code",
   "execution_count": null,
   "metadata": {},
   "outputs": [],
   "source": [
    "# Compute rank-frequency distribution for the sequence of notes\n",
    "f_w = defaultdict(float)\n",
    "for note in sorted_seq_notes:\n",
    "    f_w[note] += 1.0\n",
    "notes_ranks = []\n",
    "notes_frequencies = []\n",
    "for rr,(f,w) in enumerate(sorted([(f,w) for (w,f) in f_w.items()],reverse=True)):\n",
    "    r=rr+1\n",
    "    #print r,f,w\n",
    "    notes_ranks.append(r)\n",
    "    notes_frequencies.append(f)\n",
    "\n",
    "# Compute rank-frequency distribution for the sequence of generlized chords.\n",
    "f_w = defaultdict(float)\n",
    "for gen_chord in sorted_seq_generalized_chords:\n",
    "    f_w[gen_chord] += 1.0\n",
    "gen_chord_ranks = []\n",
    "gen_chord_frequencies = []\n",
    "for rr,(f,w) in enumerate(sorted([(f,w) for (w,f) in f_w.items()],reverse=True)):\n",
    "    r=rr+1\n",
    "    #print r,f,w\n",
    "    gen_chord_ranks.append(r)\n",
    "    gen_chord_frequencies.append(f)\n",
    "    \n",
    "# Plot curves in log-log   \n",
    "plt.title(\"Brandenburg Concerto No. 5 in D Major (BWV 1050) for Flute, Oboe & Strings\")\n",
    "plt.xlabel(\"r\")\n",
    "plt.ylabel(\"f\");\n",
    "plt.loglog()\n",
    "\n",
    "zipf_law_ranks = range(10,2000)\n",
    "zipf_law_frequencies = [1000.0/r for r in zipf_law_ranks]\n",
    "\n",
    "plt.plot(notes_ranks, notes_frequencies,label=\"notes\")\n",
    "plt.plot(gen_chord_ranks, gen_chord_frequencies,label=\"generalized chords\")\n",
    "plt.plot(zipf_law_ranks, zipf_law_frequencies,label=\"Zipf's law\")\n",
    "\n",
    "plt.legend()\n",
    "plt.show()"
   ]
  }
 ],
 "metadata": {
  "kernelspec": {
   "display_name": "Python 2",
   "language": "python",
   "name": "python2"
  },
  "language_info": {
   "codemirror_mode": {
    "name": "ipython",
    "version": 2
   },
   "file_extension": ".py",
   "mimetype": "text/x-python",
   "name": "python",
   "nbconvert_exporter": "python",
   "pygments_lexer": "ipython2",
   "version": "2.7.15"
  }
 },
 "nbformat": 4,
 "nbformat_minor": 2
}
